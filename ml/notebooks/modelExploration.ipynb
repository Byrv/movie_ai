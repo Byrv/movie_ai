{
 "cells": [
  {
   "cell_type": "code",
   "execution_count": 6,
   "metadata": {},
   "outputs": [],
   "source": [
    "import pandas as pd"
   ]
  },
  {
   "cell_type": "code",
   "execution_count": 7,
   "metadata": {},
   "outputs": [],
   "source": [
    "def load_data():\n",
    "    # Load the movies data file\n",
    "    df_movies = pd.read_csv('../data/tmdb_5000_movies.csv')\n",
    "    return df_movies"
   ]
  },
  {
   "cell_type": "code",
   "execution_count": 12,
   "metadata": {},
   "outputs": [],
   "source": [
    "def calculate_scores(df):\n",
    "    # Calculate the mean of 'vote_average' and the 90th percentile of 'vote_count'\n",
    "    C = df['vote_average'].mean()\n",
    "    m = df['vote_count'].quantile(0.9)\n",
    "\n",
    "    # Filter movies with 'vote_count' greater than or equal to m\n",
    "    q_movies = df.copy().loc[df['vote_count'] >= m]\n",
    "\n",
    "    # Function to calculate weighted rating based on the IMDB formula\n",
    "    def weighted_rating(x, m=m, C=C):\n",
    "        v = x['vote_count']\n",
    "        R = x['vote_average']\n",
    "        return (v/(v+m) * R) + (m/(m+v) * C)"
   ]
  },
  {
   "cell_type": "code",
   "execution_count": 13,
   "metadata": {},
   "outputs": [],
   "source": [
    "def calculate_scores(df):\n",
    "    # Calculate the mean of 'vote_average' and the 90th percentile of 'vote_count'\n",
    "    C = df['vote_average'].mean()\n",
    "    m = df['vote_count'].quantile(0.9)\n",
    "\n",
    "    # Filter movies with 'vote_count' greater than or equal to m\n",
    "    q_movies = df.copy().loc[df['vote_count'] >= m]\n",
    "\n",
    "    # Function to calculate weighted rating based on the IMDB formula\n",
    "    def weighted_rating(x, m=m, C=C):\n",
    "        v = x['vote_count']\n",
    "        R = x['vote_average']\n",
    "        return (v/(v+m) * R) + (m/(m+v) * C)\n",
    "\n",
    "    # Apply the weighted rating function\n",
    "    q_movies['score'] = q_movies.apply(weighted_rating, axis=1)\n",
    "\n",
    "    return q_movies.sort_values('score', ascending=False)"
   ]
  },
  {
   "cell_type": "code",
   "execution_count": 15,
   "metadata": {},
   "outputs": [],
   "source": [
    "def get_top_movies(n=10):\n",
    "    df = load_data()\n",
    "    scored_df = calculate_scores(df)\n",
    "    return scored_df[['title', 'vote_count', 'vote_average', 'score']].head(n)\n"
   ]
  },
  {
   "cell_type": "code",
   "execution_count": 16,
   "metadata": {},
   "outputs": [
    {
     "name": "stdout",
     "output_type": "stream",
     "text": [
      "                                              title  vote_count  vote_average  \\\n",
      "1881                       The Shawshank Redemption        8205           8.5   \n",
      "662                                      Fight Club        9413           8.3   \n",
      "65                                  The Dark Knight       12002           8.2   \n",
      "3232                                   Pulp Fiction        8428           8.3   \n",
      "96                                        Inception       13752           8.1   \n",
      "3337                                  The Godfather        5893           8.4   \n",
      "95                                     Interstellar       10867           8.1   \n",
      "809                                    Forrest Gump        7927           8.2   \n",
      "329   The Lord of the Rings: The Return of the King        8064           8.1   \n",
      "1990                        The Empire Strikes Back        5879           8.2   \n",
      "\n",
      "         score  \n",
      "1881  8.059258  \n",
      "662   7.939256  \n",
      "65    7.920020  \n",
      "3232  7.904645  \n",
      "96    7.863239  \n",
      "3337  7.851236  \n",
      "95    7.809479  \n",
      "809   7.803188  \n",
      "329   7.727243  \n",
      "1990  7.697884  \n"
     ]
    }
   ],
   "source": [
    "top_movies = get_top_movies()\n",
    "print(top_movies)"
   ]
  }
 ],
 "metadata": {
  "kernelspec": {
   "display_name": "Python 3",
   "language": "python",
   "name": "python3"
  },
  "language_info": {
   "codemirror_mode": {
    "name": "ipython",
    "version": 3
   },
   "file_extension": ".py",
   "mimetype": "text/x-python",
   "name": "python",
   "nbconvert_exporter": "python",
   "pygments_lexer": "ipython3",
   "version": "3.11.9"
  }
 },
 "nbformat": 4,
 "nbformat_minor": 2
}
